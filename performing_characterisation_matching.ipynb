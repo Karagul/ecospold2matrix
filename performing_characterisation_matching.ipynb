{
 "metadata": {
  "name": "",
  "signature": "sha256:dc75c505128287292ba77b6b63d627bc2221e96b5b9f1fd573a5255db8a143ee"
 },
 "nbformat": 3,
 "nbformat_minor": 0,
 "worksheets": [
  {
   "cells": [
    {
     "cell_type": "code",
     "collapsed": false,
     "input": [
      "import ecospold2matrix as e2m\n",
      "import imp\n",
      "imp.reload(e2m)\n",
      "import pandas as pd\n",
      "pd.set_option('display.max_columns', None)"
     ],
     "language": "python",
     "metadata": {},
     "outputs": [],
     "prompt_number": 1
    },
    {
     "cell_type": "code",
     "collapsed": false,
     "input": [
      "%rm characterisation.db\n",
      "%ls"
     ],
     "language": "python",
     "metadata": {},
     "outputs": [
      {
       "output_type": "stream",
       "stream": "stdout",
       "text": [
        "\u001b[0m\u001b[01;34mbuild\u001b[0m/                                      \u001b[01;34m__pycache__\u001b[0m/\r\n",
        "\u001b[01;34mcharacterisation\u001b[0m/                           README.md\r\n",
        "clean_recipe.sql                            ReCiPe111.xlsx\r\n",
        "\u001b[01;34mecoinvent31_consequential_positive_log\u001b[0m/     ReCiPe111.xlsx.2015-04-22.10.24\r\n",
        "ecospold2matrix.py                          step2_characterisation_factors.sql\r\n",
        "input_substances.sql                        \u001b[01;34mtest\u001b[0m/\r\n",
        "LICENSE.txt                                 test_ecospold2matrix.py\r\n",
        "lite_initialize.sql                         \u001b[01;34mtesting_log\u001b[0m/\r\n",
        "\u001b[01;36mmatrix_view.py\u001b[0m@                             workOnSparsing.txt\r\n",
        "performing_characterisation_matching.ipynb\r\n"
       ]
      }
     ],
     "prompt_number": 2
    },
    {
     "cell_type": "code",
     "collapsed": false,
     "input": [
      "parser=e2m.Ecospold2Matrix('/home/bill/data/characterisation/update_characterisation', 'testing')\n"
     ],
     "language": "python",
     "metadata": {},
     "outputs": [
      {
       "output_type": "stream",
       "stream": "stderr",
       "text": [
        "2015-09-01 17:03:29,724 - testing - INFO - Ecospold2Matrix Processing\n"
       ]
      },
      {
       "output_type": "stream",
       "stream": "stderr",
       "text": [
        "INFO:testing:Ecospold2Matrix Processing\n"
       ]
      },
      {
       "output_type": "stream",
       "stream": "stderr",
       "text": [
        "2015-09-01 17:03:29,737 - testing - INFO - Current git commit: fff4a396ca27511ccdb37ad6c60647905cdc5782\n"
       ]
      },
      {
       "output_type": "stream",
       "stream": "stderr",
       "text": [
        "INFO:testing:Current git commit: fff4a396ca27511ccdb37ad6c60647905cdc5782\n"
       ]
      },
      {
       "output_type": "stream",
       "stream": "stderr",
       "text": [
        "2015-09-01 17:03:29,739 - testing - INFO - Project name: testing\n"
       ]
      },
      {
       "output_type": "stream",
       "stream": "stderr",
       "text": [
        "INFO:testing:Project name: testing\n"
       ]
      },
      {
       "output_type": "stream",
       "stream": "stderr",
       "text": [
        "2015-09-01 17:03:29,740 - testing - INFO - Unit process and Master data directory: /home/bill/data/characterisation/update_characterisation\n"
       ]
      },
      {
       "output_type": "stream",
       "stream": "stderr",
       "text": [
        "INFO:testing:Unit process and Master data directory: /home/bill/data/characterisation/update_characterisation\n"
       ]
      },
      {
       "output_type": "stream",
       "stream": "stderr",
       "text": [
        "2015-09-01 17:03:29,741 - testing - INFO - Data saved in: /home/bill/documents/praxis/informatique/ecospold2matrix\n"
       ]
      },
      {
       "output_type": "stream",
       "stream": "stderr",
       "text": [
        "INFO:testing:Data saved in: /home/bill/documents/praxis/informatique/ecospold2matrix\n"
       ]
      },
      {
       "output_type": "stream",
       "stream": "stderr",
       "text": [
        "2015-09-01 17:03:29,742 - testing - INFO - Pickle intermediate results to files\n"
       ]
      },
      {
       "output_type": "stream",
       "stream": "stderr",
       "text": [
        "INFO:testing:Pickle intermediate results to files\n"
       ]
      },
      {
       "output_type": "stream",
       "stream": "stderr",
       "text": [
        "2015-09-01 17:03:29,743 - testing - INFO - Order processes based on: ISIC, activityName\n"
       ]
      },
      {
       "output_type": "stream",
       "stream": "stderr",
       "text": [
        "INFO:testing:Order processes based on: ISIC, activityName\n"
       ]
      },
      {
       "output_type": "stream",
       "stream": "stderr",
       "text": [
        "2015-09-01 17:03:29,744 - testing - INFO - Order elementary exchanges based on: compartment, subcompartment, name\n"
       ]
      },
      {
       "output_type": "stream",
       "stream": "stderr",
       "text": [
        "INFO:testing:Order elementary exchanges based on: compartment, subcompartment, name\n"
       ]
      }
     ],
     "prompt_number": 3
    },
    {
     "cell_type": "code",
     "collapsed": false,
     "input": [
      "parser.initialize_database()"
     ],
     "language": "python",
     "metadata": {},
     "outputs": [],
     "prompt_number": 4
    },
    {
     "cell_type": "code",
     "collapsed": false,
     "input": [
      "parser.read_characterisation()"
     ],
     "language": "python",
     "metadata": {},
     "outputs": [],
     "prompt_number": 5
    },
    {
     "cell_type": "code",
     "collapsed": false,
     "input": [
      "parser.input_substances()\n"
     ],
     "language": "python",
     "metadata": {},
     "outputs": [],
     "prompt_number": 6
    },
    {
     "cell_type": "code",
     "collapsed": false,
     "input": [
      "parser.step2_characterisztion_factors()"
     ],
     "language": "python",
     "metadata": {},
     "outputs": [],
     "prompt_number": 7
    },
    {
     "cell_type": "code",
     "collapsed": false,
     "input": [
      "self = parser\n",
      "raw_recipe = pd.read_sql_query(\"SELECT * FROM raw_recipe\", self.conn)\n",
      "raw_recipe.drop(['rawId', 'recipeName', 'simaproName','cas'],\n",
      "                        1, inplace=True)\n",
      "raw_recipe.set_index(['SubstId','comp','subcomp','unit'], inplace=True)\n",
      "sparse_factors = raw_recipe.stack().reset_index(-1)\n",
      "sparse_factors.columns=['impactId','factorValue']\n",
      "sparse_factors.reset_index(inplace=True)"
     ],
     "language": "python",
     "metadata": {},
     "outputs": [],
     "prompt_number": 9
    },
    {
     "cell_type": "code",
     "collapsed": false,
     "input": [
      "sparse_factors.to_sql('tmp', self.conn, index=False)"
     ],
     "language": "python",
     "metadata": {},
     "outputs": [],
     "prompt_number": 10
    },
    {
     "cell_type": "code",
     "collapsed": false,
     "input": [
      "raw_recipe = pd.read_sql_query(\"SELECT * FROM raw_recipe\", parser.conn)\n",
      "raw_recipe.columns"
     ],
     "language": "python",
     "metadata": {},
     "outputs": []
    },
    {
     "cell_type": "code",
     "collapsed": false,
     "input": [
      "raw_recipe.drop(['rawId', 'recipeName', 'simaproName','cas'] ,1, inplace=True)\n",
      "raw_recipe.set_index(['SubstId','comp','subcomp','unit'], inplace=True)\n",
      "sparse_factors = raw_recipe.stack().reset_index(-1)\n",
      "sparse_factors.columns=['impactId','factorValue']\n",
      "sparse_factors.reset_index(inplace=True)\n",
      "sparse_factors"
     ],
     "language": "python",
     "metadata": {},
     "outputs": []
    },
    {
     "cell_type": "code",
     "collapsed": false,
     "input": [
      "sparse_factors.to_sql('sparse_factors', parser.conn)"
     ],
     "language": "python",
     "metadata": {},
     "outputs": []
    },
    {
     "cell_type": "code",
     "collapsed": false,
     "input": [
      "sparse_factors.to_sql?"
     ],
     "language": "python",
     "metadata": {},
     "outputs": []
    },
    {
     "cell_type": "code",
     "collapsed": false,
     "input": [
      "c = self.conn.cursor()"
     ],
     "language": "python",
     "metadata": {},
     "outputs": [],
     "prompt_number": 11
    },
    {
     "cell_type": "code",
     "collapsed": false,
     "input": [
      "c.execute('''insert into sparse_factors(substId, comp, subcomp, unit, factorValue, impactId) select substId, comp, subcomp, unit, factorValue, impactId from tmp;''')"
     ],
     "language": "python",
     "metadata": {},
     "outputs": [
      {
       "metadata": {},
       "output_type": "pyout",
       "prompt_number": 13,
       "text": [
        "<sqlite3.Cursor at 0x7f5032e15260>"
       ]
      }
     ],
     "prompt_number": 13
    },
    {
     "cell_type": "code",
     "collapsed": false,
     "input": [
      "c.fetchall()"
     ],
     "language": "python",
     "metadata": {},
     "outputs": [
      {
       "metadata": {},
       "output_type": "pyout",
       "prompt_number": 14,
       "text": [
        "[]"
       ]
      }
     ],
     "prompt_number": 14
    },
    {
     "cell_type": "code",
     "collapsed": false,
     "input": [
      "c.execute(\"drop table tmp;\")"
     ],
     "language": "python",
     "metadata": {},
     "outputs": [
      {
       "metadata": {},
       "output_type": "pyout",
       "prompt_number": 17,
       "text": [
        "<sqlite3.Cursor at 0x7f5032e15260>"
       ]
      }
     ],
     "prompt_number": 17
    },
    {
     "cell_type": "code",
     "collapsed": false,
     "input": [],
     "language": "python",
     "metadata": {},
     "outputs": []
    }
   ],
   "metadata": {}
  }
 ]
}