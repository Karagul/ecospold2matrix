{
 "metadata": {
  "name": "",
  "signature": "sha256:5867aea17bab50f9fa7bb3786b215bad35c28ac7197130f726ee6b9f2442ece3"
 },
 "nbformat": 3,
 "nbformat_minor": 0,
 "worksheets": [
  {
   "cells": [
    {
     "cell_type": "code",
     "collapsed": false,
     "input": [
      "import ecospold2matrix as e2m\n",
      "import imp\n",
      "imp.reload(e2m)\n",
      "import pandas as pd\n",
      "pd.set_option('display.max_columns', None)\n",
      "import numpy as np\n",
      "import scipy.io\n",
      "import sys\n",
      "import os\n",
      "sys.path.append('/home/bill/software/Python/Modules/')\n",
      "import matlab_tools\n",
      "imp.reload(matlab_tools)\n",
      "\n",
      "%rm characterisation.db\n",
      "\n",
      "parser=e2m.Ecospold2Matrix('/mnt/collection/current_Version_3.1_cutoff_ecoSpold02/', \n",
      "                           'testing',\n",
      "                           prefer_pickles=True,\n",
      "                           verbose=False)\n",
      "self = parser\n",
      "c = self.conn.cursor()\n",
      "parser.get_labels()\n",
      "\n",
      "\n",
      "oldeco_path = '/home/bill/documents/arda/dev_arda_client/data/ecoinvent/2.2/Ecoinvent22_ReCiPe108_H.mat'\n",
      "matdict = scipy.io.loadmat(oldeco_path)\n",
      "a = np.array(matlab_tools.mine_nested_array(matdict['STR'], ''), dtype=object)\n",
      "self.STR_old = pd.DataFrame(a, columns=matlab_tools.mine_nested_array(matdict['STR_header'], '').squeeze().tolist())\n",
      "\n"
     ],
     "language": "python",
     "metadata": {},
     "outputs": [
      {
       "output_type": "stream",
       "stream": "stderr",
       "text": [
        "INFO:testing:Ecospold2Matrix Processing\n"
       ]
      },
      {
       "output_type": "stream",
       "stream": "stderr",
       "text": [
        "INFO:testing:Current git commit: 812473d1f58f19aef290b7ba1a9957e8991f285e\n"
       ]
      },
      {
       "output_type": "stream",
       "stream": "stderr",
       "text": [
        "INFO:testing:Project name: testing\n"
       ]
      },
      {
       "output_type": "stream",
       "stream": "stderr",
       "text": [
        "INFO:testing:Unit process and Master data directory: /mnt/collection/current_Version_3.1_cutoff_ecoSpold02/\n"
       ]
      },
      {
       "output_type": "stream",
       "stream": "stderr",
       "text": [
        "INFO:testing:Data saved in: /home/bill/documents/praxis/informatique/ecospold2matrix\n"
       ]
      },
      {
       "output_type": "stream",
       "stream": "stderr",
       "text": [
        "INFO:testing:When possible, loads pickled data instead of parsing ecospold files\n"
       ]
      },
      {
       "output_type": "stream",
       "stream": "stderr",
       "text": [
        "INFO:testing:Pickle intermediate results to files\n"
       ]
      },
      {
       "output_type": "stream",
       "stream": "stderr",
       "text": [
        "INFO:testing:Order processes based on: ISIC, activityName\n"
       ]
      },
      {
       "output_type": "stream",
       "stream": "stderr",
       "text": [
        "INFO:testing:Order elementary exchanges based on: compartment, subcompartment, name\n"
       ]
      },
      {
       "output_type": "stream",
       "stream": "stderr",
       "text": [
        "INFO:testing:Labels saved in /mnt/collection/current_Version_3.1_cutoff_ecoSpold02/rawlabels.pickle with SHA-1 of da39a3ee5e6b4b0d3255bfef95601890afd80709\n"
       ]
      }
     ],
     "prompt_number": 1
    },
    {
     "cell_type": "code",
     "collapsed": false,
     "input": [
      "parser.initialize_database()\n",
      "parser.read_characterisation()\n",
      "parser.integrate_flows_recipe()\n",
      "parser.step2_characterisztion_factors()\n",
      "parser.process_ecoinvent_elementary_flows()\n",
      "self.extract_old_stressor_labels()\n",
      "%cp characterisation.db start_characterisation.db\n",
      "self.integrate_flows_ecoinvent()"
     ],
     "language": "python",
     "metadata": {},
     "outputs": [
      {
       "output_type": "stream",
       "stream": "stderr",
       "text": [
        "WARNING:testing:obs2char_subcomps constraints temporarily relaxed because not full recipe parsed\n"
       ]
      }
     ],
     "prompt_number": 2
    },
    {
     "cell_type": "code",
     "collapsed": false,
     "input": [
      "%cp characterisation.db start_characterisation.db"
     ],
     "language": "python",
     "metadata": {},
     "outputs": [],
     "prompt_number": 4
    },
    {
     "cell_type": "code",
     "collapsed": false,
     "input": [],
     "language": "python",
     "metadata": {},
     "outputs": []
    }
   ],
   "metadata": {}
  }
 ]
}