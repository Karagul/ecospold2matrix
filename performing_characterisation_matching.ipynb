{
 "metadata": {
  "name": "",
  "signature": "sha256:35c6547e70e8733517e0a0452caa01e3bdf2aff40792030131ed3eb3c3a3187d"
 },
 "nbformat": 3,
 "nbformat_minor": 0,
 "worksheets": [
  {
   "cells": [
    {
     "cell_type": "code",
     "collapsed": false,
     "input": [
      "import ecospold2matrix as e2m\n",
      "import imp\n",
      "imp.reload(e2m)\n",
      "import pandas as pd\n",
      "pd.set_option('display.max_columns', None)\n",
      "%rm characterisation.db\n",
      "parser=e2m.Ecospold2Matrix('/home/bill/data/characterisation/update_characterisation', 'testing')\n",
      "\n",
      "parser.initialize_database()\n",
      "parser.read_characterisation()\n",
      "parser.input_substances()\n",
      "parser.step2_characterisztion_factors()\n",
      "self = parser"
     ],
     "language": "python",
     "metadata": {},
     "outputs": [
      {
       "output_type": "stream",
       "stream": "stderr",
       "text": [
        "2015-09-02 02:08:53,079 - testing - INFO - Ecospold2Matrix Processing\n"
       ]
      },
      {
       "output_type": "stream",
       "stream": "stderr",
       "text": [
        "INFO:testing:Ecospold2Matrix Processing\n"
       ]
      },
      {
       "output_type": "stream",
       "stream": "stderr",
       "text": [
        "2015-09-02 02:08:53,094 - testing - INFO - Current git commit: b40f0b63bdde85518b2c25bdad545414610a33cf\n"
       ]
      },
      {
       "output_type": "stream",
       "stream": "stderr",
       "text": [
        "INFO:testing:Current git commit: b40f0b63bdde85518b2c25bdad545414610a33cf\n"
       ]
      },
      {
       "output_type": "stream",
       "stream": "stderr",
       "text": [
        "2015-09-02 02:08:53,096 - testing - INFO - Project name: testing\n"
       ]
      },
      {
       "output_type": "stream",
       "stream": "stderr",
       "text": [
        "INFO:testing:Project name: testing\n"
       ]
      },
      {
       "output_type": "stream",
       "stream": "stderr",
       "text": [
        "2015-09-02 02:08:53,099 - testing - INFO - Unit process and Master data directory: /home/bill/data/characterisation/update_characterisation\n"
       ]
      },
      {
       "output_type": "stream",
       "stream": "stderr",
       "text": [
        "INFO:testing:Unit process and Master data directory: /home/bill/data/characterisation/update_characterisation\n"
       ]
      },
      {
       "output_type": "stream",
       "stream": "stderr",
       "text": [
        "2015-09-02 02:08:53,100 - testing - INFO - Data saved in: /home/bill/documents/praxis/informatique/ecospold2matrix\n"
       ]
      },
      {
       "output_type": "stream",
       "stream": "stderr",
       "text": [
        "INFO:testing:Data saved in: /home/bill/documents/praxis/informatique/ecospold2matrix\n"
       ]
      },
      {
       "output_type": "stream",
       "stream": "stderr",
       "text": [
        "2015-09-02 02:08:53,101 - testing - INFO - Pickle intermediate results to files\n"
       ]
      },
      {
       "output_type": "stream",
       "stream": "stderr",
       "text": [
        "INFO:testing:Pickle intermediate results to files\n"
       ]
      },
      {
       "output_type": "stream",
       "stream": "stderr",
       "text": [
        "2015-09-02 02:08:53,104 - testing - INFO - Order processes based on: ISIC, activityName\n"
       ]
      },
      {
       "output_type": "stream",
       "stream": "stderr",
       "text": [
        "INFO:testing:Order processes based on: ISIC, activityName\n"
       ]
      },
      {
       "output_type": "stream",
       "stream": "stderr",
       "text": [
        "2015-09-02 02:08:53,105 - testing - INFO - Order elementary exchanges based on: compartment, subcompartment, name\n"
       ]
      },
      {
       "output_type": "stream",
       "stream": "stderr",
       "text": [
        "INFO:testing:Order elementary exchanges based on: compartment, subcompartment, name\n"
       ]
      }
     ],
     "prompt_number": 1
    },
    {
     "cell_type": "code",
     "collapsed": false,
     "input": [],
     "language": "python",
     "metadata": {},
     "outputs": []
    }
   ],
   "metadata": {}
  }
 ]
}