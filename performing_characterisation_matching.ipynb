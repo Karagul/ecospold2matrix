{
 "metadata": {
  "name": "",
  "signature": "sha256:7f724fa9e0b0931f78aec09ee5a1e73261cc50391f8c4097c7711af71c22809f"
 },
 "nbformat": 3,
 "nbformat_minor": 0,
 "worksheets": [
  {
   "cells": [
    {
     "cell_type": "code",
     "collapsed": false,
     "input": [
      "import ecospold2matrix as e2m\n",
      "import imp\n",
      "imp.reload(e2m)\n",
      "import pandas as pd\n",
      "pd.set_option('display.max_columns', None)\n",
      "import numpy as np\n",
      "import scipy.io\n",
      "import sys\n",
      "import os\n",
      "sys.path.append('/home/bill/software/Python/Modules/')\n",
      "import matlab_tools\n",
      "imp.reload(matlab_tools)\n",
      "\n",
      "%rm characterisation.db\n",
      "\n",
      "parser=e2m.Ecospold2Matrix('/mnt/collection/current_Version_3.1_cutoff_ecoSpold02/', \n",
      "                           'testing',\n",
      "                           prefer_pickles=True,\n",
      "                           verbose=False)\n",
      "self = parser\n",
      "c = self.conn.cursor()\n",
      "parser.get_labels()\n",
      "\n",
      "\n",
      "oldeco_path = '/home/bill/documents/arda/dev_arda_client/data/ecoinvent/2.2/Ecoinvent22_ReCiPe108_H.mat'\n",
      "matdict = scipy.io.loadmat(oldeco_path)\n",
      "a = np.array(matlab_tools.mine_nested_array(matdict['STR'], ''), dtype=object)\n",
      "self.STR_old = pd.DataFrame(a, columns=matlab_tools.mine_nested_array(matdict['STR_header'], '').squeeze().tolist())\n",
      "\n"
     ],
     "language": "python",
     "metadata": {},
     "outputs": []
    },
    {
     "cell_type": "code",
     "collapsed": false,
     "input": [
      "parser.initialize_database()\n",
      "parser.read_characterisation()\n",
      "parser.integrate_flows_recipe()\n",
      "parser.step2_characterisztion_factors()\n",
      "parser.process_ecoinvent_elementary_flows()\n",
      "self.extract_old_stressor_labels()\n",
      "%cp characterisation.db start_characterisation.db\n",
      "self.integrate_flows_ecoinvent()"
     ],
     "language": "python",
     "metadata": {},
     "outputs": []
    },
    {
     "cell_type": "code",
     "collapsed": false,
     "input": [
      "c.execute(\"select * from raw_recipe\")"
     ],
     "language": "python",
     "metadata": {},
     "outputs": []
    },
    {
     "cell_type": "code",
     "collapsed": false,
     "input": [
      "factors = c.fetchall()"
     ],
     "language": "python",
     "metadata": {},
     "outputs": []
    },
    {
     "cell_type": "code",
     "collapsed": false,
     "input": [
      "pd.DataFrame(factors)"
     ],
     "language": "python",
     "metadata": {},
     "outputs": []
    },
    {
     "cell_type": "code",
     "collapsed": false,
     "input": [
      "self.STR"
     ],
     "language": "python",
     "metadata": {},
     "outputs": []
    },
    {
     "cell_type": "code",
     "collapsed": false,
     "input": [],
     "language": "python",
     "metadata": {},
     "outputs": []
    },
    {
     "cell_type": "code",
     "collapsed": false,
     "input": [],
     "language": "python",
     "metadata": {},
     "outputs": []
    }
   ],
   "metadata": {}
  }
 ]
}